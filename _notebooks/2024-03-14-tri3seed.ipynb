{
 "cells": [
  {
   "cell_type": "markdown",
   "metadata": {},
   "source": [
    "---\n",
    "toc: true\n",
    "comments: true\n",
    "layout: post\n",
    "title: Trimester 3 Seed | CPT, CB Reqs, & more\n",
    "type: Hacks\n",
    "courses: { compsci: {week: 12 } }\n",
    "---\n",
    "\n"
   ]
  },
  {
   "cell_type": "markdown",
   "metadata": {},
   "source": [
    "A reflection of my work this trimester on our CPT project including my contributions, experience, and results, as well as a trimester-wide summary of how I worked on and experienced CSP.\n",
    "\n",
    "I will be going over how our project and specifically my feature fulfills these requirements below, after going over the general idea of our project.\n",
    "\n",
    "## CPT | The aim of the Project\n",
    "\n",
    "- Create a replica of Spotify\n",
    "- Have a login page\n",
    "- allow users to see songs, create playlists\n",
    "\n",
    "### Main Individual Feature:\n",
    "- Create Playlists Feature\n",
    "- Styling component of login page\n",
    "\n",
    "\n",
    "## CPT | What did I contribute and reflection\n",
    "\n",
    "Reflecting on the work I have done over this trimester on our CPT project has been both challenging and rewarding. Our project aimed to create a replica of Spotify, complete with a login page and features that allowed users to explore songs and create playlists. This ambitious goal required collaborative effort, innovative thinking, and a keen attention to detail.\n",
    "\n",
    "One of my main individual contributions to the project was the creation of the Playlists feature. This feature was a crucial aspect of our Spotify replica, as playlists are an integral part of the user experience. Implementing this feature required a deep understanding of the Spotify functionality and a careful consideration of how users interact with playlists.\n",
    "\n",
    "To start, I began by defining the user requirements for creating playlists. I focused on ensuring that the process was intuitive and user-friendly. I implemented features that allowed users to easily add and remove songs from playlists, reorder tracks, and customize playlist details. Testing was a crucial part of this process, as I wanted to make sure that the feature was not only functional but also enjoyable to use.\n",
    "\n",
    "Additionally, I took on the responsibility of styling the login page. While it might seem like a small aspect of the project, the login page serves as the first point of contact for users. A visually appealing and well-designed login page sets the tone for the entire application. I paid attention to color schemes, fonts, and overall layout to create a cohesive and inviting login experience.\n",
    "\n",
    "Throughout the development of these features, I faced challenges that pushed me to expand my skills. Debugging issues, optimizing code for performance, and ensuring compatibility across different devices were all part of the learning process. Collaborating with team members to integrate my features seamlessly into the larger project also taught me the importance of effective communication and version control.\n",
    "\n",
    "In terms of the overall trimester, working on the CPT project was a holistic learning experience. I gained valuable insights into software development processes, project management, and the importance of meeting deadlines. The project demanded a balance between creativity and technical proficiency, and I believe my contributions played a significant role in enhancing the overall functionality and aesthetics of our Spotify replica.\n",
    "\n",
    "Looking back, I am proud of what our team has accomplished. Our CPT project not only met the initial goals of creating a Spotify replica but also provided us with a platform to showcase our individual and collective strengths. The experience has deepened my appreciation for the complexities of software development and fueled my enthusiasm for future projects.\n",
    "\n",
    "In conclusion, this trimester has been a journey of growth, collaboration, and achievement. The challenges I faced and overcame during the development of the Playlists feature and the login page have enriched my skill set and reinforced the importance of teamwork in achieving ambitious goals. I am confident that the skills and experiences gained during this project will serve as a solid foundation for my future endeavors in the field of computer science and software development.\n"
   ]
  },
  {
   "cell_type": "code",
   "execution_count": null,
   "metadata": {
    "vscode": {
     "languageId": "html"
    }
   },
   "outputs": [],
   "source": [
    "![]({{ site.baseurl }}/images/keycommits1.png ) \n",
    "![]({{ site.baseurl }}/images/keycommits2.png ) "
   ]
  }
 ],
 "metadata": {
  "language_info": {
   "name": "python"
  }
 },
 "nbformat": 4,
 "nbformat_minor": 2
}

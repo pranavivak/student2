{
 "cells": [
  {
   "cell_type": "markdown",
   "metadata": {},
   "source": [
    "---\n",
    "layout: post\n",
    "hide: True\n",
    "title: Basics of HTML Guide\n",
    "description: An introduction to basic HTML, and resources to learn more.\n",
    "type: ccc\n",
    "permalink: /basics/html\n",
    "author: Rohan Juneja\n",
    "comments: true\n",
    "---"
   ]
  },
  {
   "cell_type": "raw",
   "metadata": {},
   "source": [
    "{% include nav_basics.html %}\n"
   ]
  },
  {
   "cell_type": "markdown",
   "metadata": {},
   "source": [
    "\n",
    "# How does HTML work?\n",
    "Similar function to Markdown, syntax defines how stuff should be displayed\n",
    "- HTML is based on beginning and closing tags `<tagname>content</tagname>`\n",
    "  - Note the \"/\" on the ending or closing tag of the pair"
   ]
  },
  {
   "cell_type": "markdown",
   "metadata": {},
   "source": [
    "## Compare markdown to html below\n",
    "This below example shows comparison of a [heading](https://www.w3schools.com/html/html_headings.asp) and [paragraph](https://www.w3schools.com/html/html_paragraphs.asp).  Click on links to see many more HTML examples."
   ]
  },
  {
   "cell_type": "code",
   "execution_count": null,
   "metadata": {},
   "outputs": [],
   "source": [
    "%%markdown\n",
    "\n",
    "### Markdown: This is a Heading\n",
    "\n",
    "This is a paragraph\n"
   ]
  },
  {
   "cell_type": "code",
   "execution_count": null,
   "metadata": {
    "vscode": {
     "languageId": "html"
    }
   },
   "outputs": [],
   "source": [
    "%%html\n",
    "\n",
    "<h3>HTML: This is a Heading</h3>\n",
    "<p>This is a paragraph.</p>"
   ]
  },
  {
   "cell_type": "markdown",
   "metadata": {},
   "source": [
    "# Attributes\n",
    "- Learn about [attributes](https://www.w3schools.com/html/html_attributes.asp) \n",
    "- Tags can have additional info in the form of attributes\n",
    "- Attributes usually come in name/value pairs like: name=\"value\"\n",
    "\n",
    "```html\n",
    "<tagname attribute_name=\"attribute_value\" another_attribute=\"another_value\">inner html text</tagname>\n",
    "```\n",
    "\n",
    "- href example with attribute for web link and inner html to describe link\n",
    "\n",
    "```html\n",
    "<a href=\"https://www.w3schools.com/html/default.asp\">Visit W3Schools HTML Page</a>\n",
    "```"
   ]
  },
  {
   "cell_type": "markdown",
   "metadata": {},
   "source": [
    "## Sample Markdown vs HTML Tags\n",
    "Image Tag - Markdown\n",
    "\n",
    "```md\n",
    "![describe image](link to image)\n",
    "```\n",
    "\n",
    "Image Tag - HTML\n",
    "\n",
    "```html\n",
    "<!-- no content so no end tag, width/height is optional (in pixels) -->\n",
    "<img alt=\"describe image\" src=\"link to image\" width=\"100\" height=\"200\">\n",
    "```\n",
    "\n",
    "Link Tag - Markdown\n",
    "\n",
    "```md\n",
    "[link text](link)\n",
    "```\n",
    "\n",
    "Link Tag - HTML\n",
    "\n",
    "```html\n",
    "<a href=\"link\">link text</a>\n",
    "```\n",
    "\n",
    "Bolded Text - Markdown\n",
    "\n",
    "```md\n",
    "**Bolded Text**\n",
    "```\n",
    "\n",
    "Bolded Text - HTML\n",
    "\n",
    "```md\n",
    "<strong>Bolded Text</strong>\n",
    "```\n",
    "\n",
    "Italic Text - Markdown\n",
    "\n",
    "```md\n",
    "*Italic Text*\n",
    "```\n",
    "\n",
    "Italic Text - HTML\n",
    "\n",
    "```md\n",
    "<i>Italic Text</i>\n",
    "```"
   ]
  },
  {
   "cell_type": "markdown",
   "metadata": {},
   "source": [
    "# More tags (not really in markdown)\n",
    "P tag (just represeants a paragraph/normal text)\n",
    "\n",
    "```html\n",
    "<p>This is a paragraph</p>\n",
    "```\n",
    "\n",
    "Button\n",
    "\n",
    "```html\n",
    "<button>some button text</button>\n",
    "```\n",
    "\n",
    "Div (groups together related content)\n",
    "\n",
    "```html\n",
    "<!-- first information -->\n",
    "<div>\n",
    "    <!-- notice how tags can be put INSIDE eachother -->\n",
    "    <p>This is the first paragarph of section 1</p>\n",
    "    <p>This is the second paragraph of section 1</p>\n",
    "</div>\n",
    "\n",
    "<!-- second information -->\n",
    "<div>\n",
    "    <!-- notice how tags can be put INSIDE eachother -->\n",
    "    <p>This is the first paragarph of section 2</p>\n",
    "    <p>This is the second paragraph of section 2</p>\n",
    "</div>\n",
    "```\n",
    "\n"
   ]
  },
  {
   "cell_type": "markdown",
   "metadata": {},
   "source": [
    "# Resources\n",
    "- https://www.w3schools.com/html/default.asp\n",
    "- I will show a demo of how to find information on this website"
   ]
  },
  {
   "cell_type": "markdown",
   "metadata": {},
   "source": [
    "# HTML Hacks\n",
    "- Below is a wireframe for an HTML element you will create. A wireframe is a rough visual representation of HTML elements on a page and isn't necessarily to scale or have the exact styling that the final HTML will have. Using the syntax above, try to create an HTML snippet that corresponds to the below wireframe.\n",
    "- The \"a tags\" can contain any links that you want\n",
    "\n",
    "![wireframe for html hacks]({{ site.baseurl }}/images/wireframe.png)"
   ]
  },
  {
   "cell_type": "code",
   "execution_count": null,
   "metadata": {
    "vscode": {
     "languageId": "html"
    }
   },
   "outputs": [],
   "source": [
    "%%html\n",
    "\n",
    "<h3>HTML: Our Passion Project</h3>\n",
    "<p> We all have a passion for Art so we are planning to build a website that showcases our art pieces. Apart from showcasing, we would also like to go in depth of the history of art. We should have separate art profiles for each of us under a different tab. </p>"
   ]
  },
  {
   "cell_type": "code",
   "execution_count": 14,
   "metadata": {
    "vscode": {
     "languageId": "html"
    }
   },
   "outputs": [
    {
     "data": {
      "text/html": [
       "<i>Passion Project - Art</i>\n"
      ],
      "text/plain": [
       "<IPython.core.display.HTML object>"
      ]
     },
     "metadata": {},
     "output_type": "display_data"
    }
   ],
   "source": [
    "%%html\n",
    "<i>Passion Project - Art</i>"
   ]
  },
  {
   "cell_type": "code",
   "execution_count": 1,
   "metadata": {
    "vscode": {
     "languageId": "html"
    }
   },
   "outputs": [
    {
     "data": {
      "text/html": [
       "<div>\n",
       "    <p>We made a group of four, our scrum team and assigned roles</p>\n",
       "    <p>We brainstormed something that we all have in common. Then we found out that we all have a passion for art. Three of us paint and one of us likes art museums.</p>\n",
       "    <button>Hi, Click Me!</button>\n",
       "</div>\n",
       "\n",
       "<div>\n",
       "    <p>This week we have been learning web programming basics.</p>\n",
       "    <p>Since our passion project is about art, I am brainstorming through these hacks.</p>\n",
       "</div>\n",
       "\n",
       "</div> Websites\n",
       "    <p><a href =\"https://en.wikipedia.org/wiki/Pablo_Picasso\">Pablo picaso</a></p> - Cubism, Classicism, and Surrealism\n",
       "    <p><a href =\"https://en.wikipedia.org/wiki/Andy_Warhol\">Andy Warhol</a></p> -  bright, colourful paintings and prints of subjects \n",
       "    <p><a href =\"https://en.wikipedia.org/wiki/El_Greco\">El Greco</a></p> - tortuously elongated figures and often fantastic or phantasmagorical pigmentation\n"
      ],
      "text/plain": [
       "<IPython.core.display.HTML object>"
      ]
     },
     "metadata": {},
     "output_type": "display_data"
    }
   ],
   "source": [
    "%%html\n",
    "<div>\n",
    "    <p>We made a group of four, our scrum team and assigned roles</p>\n",
    "    <p>We brainstormed something that we all have in common. Then we found out that we all have a passion for art. Three of us paint and one of us likes art museums.</p>\n",
    "    <button>Hi, Click Me!</button>\n",
    "</div>\n",
    "\n",
    "<div>\n",
    "    <p>This week we have been learning web programming basics.</p>\n",
    "    <p>Since our passion project is about art, I am brainstorming through these hacks.</p>\n",
    "</div>\n",
    "\n",
    "</div> Websites\n",
    "    <p><a href =\"https://en.wikipedia.org/wiki/Pablo_Picasso\">Pablo picaso</a></p> Cubism, Classicism, and Surrealism\n",
    "    <p><a href =\"https://en.wikipedia.org/wiki/Andy_Warhol\">Andy Warhol</a></p>  bright, colourful paintings and prints of subjects \n",
    "    <p><a href =\"https://en.wikipedia.org/wiki/El_Greco\">El Greco</a></p> tortuously elongated figures and often fantastic or phantasmagorical pigmentation"
   ]
  },
  {
   "cell_type": "code",
   "execution_count": 2,
   "metadata": {
    "vscode": {
     "languageId": "html"
    }
   },
   "outputs": [
    {
     "data": {
      "text/html": [
       "<div>\n",
       "    <p>We made a group of four, our scrum team and assigned roles</p>\n",
       "    <p>We brainstormed something that we all have in common. Then we found out that we all have a passion for art. Three of us paint and one of us likes art museums.</p>\n",
       "    <button><a href=\"http://127.0.0.1:4200/student/basics/home\">Hi, Click Me!</a></button>\n",
       "</div>\n",
       "\n",
       "<div>\n",
       "    <p>This week we have been learning web programming basics.</p>\n",
       "    <p>Since our passion project is about art, I am brainstorming through these hacks.</p>\n",
       "</div>\n",
       "\n",
       "<div>\n",
       "    <p><a href =\"https://en.wikipedia.org/wiki/Pablo_Picasso\">Pablo Picasso</a></p> Cubism, Classicism, and Surrealism\n",
       "    <p><a href =\"https://en.wikipedia.org/wiki/Andy_Warhol\">Andy Warhol</a></p> bright, colorful paintings and prints of subjects \n",
       "    <p><a href =\"https://en.wikipedia.org/wiki/El_Greco\">El Greco</a></p> tortuously elongated figures and often fantastic or phantasmagorical pigmentation\n",
       "</div>\n"
      ],
      "text/plain": [
       "<IPython.core.display.HTML object>"
      ]
     },
     "metadata": {},
     "output_type": "display_data"
    }
   ],
   "source": [
    "%%html\n",
    "<div>\n",
    "    <p>We made a group of four, our scrum team and assigned roles</p>\n",
    "    <p>We brainstormed something that we all have in common. Then we found out that we all have a passion for art. Three of us paint and one of us likes art museums.</p>\n",
    "    <button><a href=\"http://127.0.0.1:4200/student/basics/home\">Hi, Click Me!</a></button>\n",
    "</div>\n",
    "\n",
    "<div>\n",
    "    <p>This week we have been learning web programming basics.</p>\n",
    "    <p>Since our passion project is about art, I am brainstorming through these hacks.</p>\n",
    "</div>\n",
    "\n",
    "<div>\n",
    "    <p><a href =\"https://en.wikipedia.org/wiki/Pablo_Picasso\">Pablo Picasso</a></p> Cubism, Classicism, and Surrealism\n",
    "    <p><a href =\"https://en.wikipedia.org/wiki/Andy_Warhol\">Andy Warhol</a></p> bright, colorful paintings and prints of subjects \n",
    "    <p><a href =\"https://en.wikipedia.org/wiki/El_Greco\">El Greco</a></p> tortuously elongated figures and often fantastic or phantasmagorical pigmentation\n",
    "</div>"
   ]
  }
 ],
 "metadata": {
  "kernelspec": {
   "display_name": "Python 3",
   "language": "python",
   "name": "python3"
  },
  "language_info": {
   "codemirror_mode": {
    "name": "ipython",
    "version": 3
   },
   "file_extension": ".py",
   "mimetype": "text/x-python",
   "name": "python",
   "nbconvert_exporter": "python",
   "pygments_lexer": "ipython3",
   "version": "3.10.12"
  },
  "orig_nbformat": 4
 },
 "nbformat": 4,
 "nbformat_minor": 2
}

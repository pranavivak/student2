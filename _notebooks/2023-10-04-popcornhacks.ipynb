{
 "cells": [
  {
   "cell_type": "markdown",
   "metadata": {},
   "source": [
    "---\n",
    "toc: true\n",
    "comments: false\n",
    "layout: post\n",
    "title: Popcorn hacks\n",
    "type: hacks\n",
    "courses: { compsci: {week: 7 } }\n",
    "---"
   ]
  },
  {
   "cell_type": "markdown",
   "metadata": {},
   "source": [
    "Integer: Variable 1\n",
    "List: Variable 3\n",
    "Boolean: Variable 4\n",
    "String: Variable 2\n",
    "\n"
   ]
  },
  {
   "cell_type": "code",
   "execution_count": 2,
   "metadata": {},
   "outputs": [
    {
     "name": "stdout",
     "output_type": "stream",
     "text": [
      "<class 'list'>\n",
      "[1, 2, 3, 4]\n",
      "<class 'str'>\n"
     ]
    }
   ],
   "source": [
    "import json\n",
    "lst = [1,2,3,4]\n",
    "print(type(lst))\n",
    "a = json.dumps(lst)\n",
    "print(a)\n",
    "print(type(a))\n"
   ]
  },
  {
   "cell_type": "code",
   "execution_count": 4,
   "metadata": {},
   "outputs": [
    {
     "name": "stdout",
     "output_type": "stream",
     "text": [
      "15\n",
      "iPhone 12\n",
      "['Psych', 'Stats', 'CSP', 'GOv']\n",
      "True\n"
     ]
    }
   ],
   "source": [
    "# Variable 1\n",
    "\n",
    "numPaintings = 15\n",
    "print(numPaintings)\n",
    "\n",
    "# Variable 2\n",
    "\n",
    "Phone = \"iPhone 12\"\n",
    "print(Phone)\n",
    "\n",
    "# Variable \n",
    "\n",
    "Classes = [\"Psych\", \"Stats\", \"CSP\", \"GOv\"]\n",
    "print(Classes)\n",
    "\n",
    "#Variable 4\n",
    "\n",
    "catsbeatdogs = True\n",
    "print(catsbeatdogs)"
   ]
  },
  {
   "cell_type": "code",
   "execution_count": 7,
   "metadata": {},
   "outputs": [
    {
     "data": {
      "text/plain": [
       "False"
      ]
     },
     "execution_count": 7,
     "metadata": {},
     "output_type": "execute_result"
    }
   ],
   "source": [
    "(10 + 20 + 40) / 3 >= 70"
   ]
  },
  {
   "cell_type": "code",
   "execution_count": null,
   "metadata": {},
   "outputs": [],
   "source": [
    "# Example 1: Simple if-else block\n",
    "x = 10\n",
    "if x > 5:\n",
    "    print(\"x is greater than 5\")\n",
    "else:\n",
    "    print(\"x is not greater than 5\")\n",
    "\n",
    "# Example 1: if-elif-else block\n",
    "y = 7\n",
    "if y > 10:\n",
    "    print(\"y is greater than 10\")\n",
    "elif y == 10:\n",
    "    print(\"y is equal to 10\")\n",
    "else:\n",
    "    print(\"y is less than 10\")\n"
   ]
  }
 ],
 "metadata": {
  "kernelspec": {
   "display_name": "Python 3",
   "language": "python",
   "name": "python3"
  },
  "language_info": {
   "codemirror_mode": {
    "name": "ipython",
    "version": 3
   },
   "file_extension": ".py",
   "mimetype": "text/x-python",
   "name": "python",
   "nbconvert_exporter": "python",
   "pygments_lexer": "ipython3",
   "version": "3.10.12"
  },
  "orig_nbformat": 4
 },
 "nbformat": 4,
 "nbformat_minor": 2
}

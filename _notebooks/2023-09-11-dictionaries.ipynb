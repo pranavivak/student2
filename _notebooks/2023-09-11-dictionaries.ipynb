{
 "cells": [
  {
   "cell_type": "markdown",
   "metadata": {},
   "source": [
    "---\n",
    "toc: true\n",
    "comments: false\n",
    "layout: post\n",
    "title: Dictionary\n",
    "type: hacks\n",
    "courses: { compsci: {week: 4 } }\n",
    "---"
   ]
  },
  {
   "cell_type": "code",
   "execution_count": 2,
   "metadata": {},
   "outputs": [
    {
     "name": "stdout",
     "output_type": "stream",
     "text": [
      "Pranavi\n",
      "16\n",
      "{'name': 'Pranavi', 'age': 16, 'city': 'San Diego'}\n",
      "{'name': 'Pranavi', 'age': 16, 'city': 'San Diego', 'country': 'USA'}\n",
      "{'name': 'Pranavi', 'age': 16, 'country': 'USA'}\n",
      "The key 'name' exists in the dictionary\n"
     ]
    }
   ],
   "source": [
    "# Creating a dictionary\n",
    "my_dict = {\n",
    "    \"name\": \"Pranavi\",\n",
    "    \"age\": 16,\n",
    "    \"city\": \"San Diego\"\n",
    "}\n",
    "\n",
    "# Accessing values in the dictionary\n",
    "print(my_dict[\"name\"])  # Prints the value associated with the key \"name\" (Pranavi)\n",
    "print(my_dict[\"age\"])   # Prints the value associated with the key \"age\" (16)\n",
    "\n",
    "# Modifying values in the dictionary\n",
    "my_dict[\"age\"] = 16  # Updates the value associated with the key \"age\" to 16\n",
    "print(my_dict)       # Prints the updated dictionary\n",
    "\n",
    "# Adding new key-value pairs to the dictionary\n",
    "my_dict[\"country\"] = \"USA\"\n",
    "print(my_dict)       # Prints the dictionary with the new key-value pair\n",
    "\n",
    "# Removing key-value pairs from the dictionary\n",
    "del my_dict[\"city\"]\n",
    "print(my_dict)       # Prints the dictionary with the \"city\" key removed\n",
    "\n",
    "# Checking if a key exists in the dictionary\n",
    "if \"name\" in my_dict:\n",
    "    print(\"The key 'name' exists in the dictionary\")\n"
   ]
  }
 ],
 "metadata": {
  "kernelspec": {
   "display_name": "Python 3",
   "language": "python",
   "name": "python3"
  },
  "language_info": {
   "codemirror_mode": {
    "name": "ipython",
    "version": 3
   },
   "file_extension": ".py",
   "mimetype": "text/x-python",
   "name": "python",
   "nbconvert_exporter": "python",
   "pygments_lexer": "ipython3",
   "version": "3.10.12"
  },
  "orig_nbformat": 4
 },
 "nbformat": 4,
 "nbformat_minor": 2
}

{
 "cells": [
  {
   "cell_type": "markdown",
   "metadata": {},
   "source": [
    "## Individual Review Part 2\n",
    "\n",
    "### Trimester 1 of AP CSP\n",
    "\n",
    "I kicked off the trimester by working on my timebox project, where I got to develop and customize it according to my preferred aesthetics. It was not just about coding; I enjoyed adding creative elements to make it uniquely mine. This initial project allowed me to explore the balance between functionality and design, enhancing both my technical and creative skills.\n",
    "As the trimester progressed, I found myself facing a thrilling challenge in our Art Museum project. This time, I delved into the realm of APIs, particularly the Google Maps API. Navigating through the intricacies of APIs added a whole new dimension to my learning experience. It was both challenging and fun, especially as I integrated the Google Maps API into our project. This hands-on experience taught me a lot about working with external data sources and broadened my understanding of how to leverage APIs effectively.\n",
    "\n",
    "### First Half of Trimester 2 of AP CSP\n",
    "\n",
    "During the first half of the second trimester of AP Computer Science Principles, my focus shifted to a binary project where the emphasis was primarily on the front end. It was a refreshing change from my previous experiences, allowing me to explore the creative aspects of web development. Working on the binary project gave me the opportunity to dive into the world of website decoration and styling. Unlike my previous endeavors, where functionality took the forefront, this time I delved into the aesthetics of a website. It was an interesting shift to concentrate on the user interface and design elements, exploring how to make a website visually appealing and engaging.Throughout this phase, I learned various techniques for decorating a website and honed my skills in styling. From choosing color schemes to arranging elements in a visually pleasing manner, every decision contributed to the overall look and feel of the project. It was fascinating to see how small design choices could have a significant impact on the user's experience.\n",
    "\n",
    "### Peer Granding Binary Project\n",
    "\n",
    "Our Grades:\n",
    "- Shubhay: 0.47/0.50\n",
    "- Tanay: 0.475/0.50\n",
    "- Pranavi: 0.475/0.50\n",
    "- Tanvi: 0.47/0.50\n",
    "- Tarun: 0.475/0.50\n",
    "\n",
    "### College Board Quiz Corrections\n",
    "\n",
    "https://github.com/pranavivak/student2/blob/1ff58aebf5b1af80540995ee72f313350a27erswe23e/_posts/2023-06-23-CollegeboardMCcorrecitons.md\n"
   ]
  }
 ],
 "metadata": {
  "language_info": {
   "name": "python"
  }
 },
 "nbformat": 4,
 "nbformat_minor": 2
}

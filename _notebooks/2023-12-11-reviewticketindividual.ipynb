{
 "cells": [
  {
   "cell_type": "markdown",
   "metadata": {},
   "source": [
    "## Individual Review ticket\n",
    "\n",
    "Individual Review \"Pranavi Vakkala\" grading \"Their name\"\n",
    "\n",
    "- [ ] Individual should show that they were key contributor and example to team.  This includes their participation in ideas, plans, creating individual issues, providing code commits to project, crossover grading participation, being on task and positive example in the classroom.\n",
    "\n",
    "Individuals Video, Issue(s), Commits(s)\n",
    "\n",
    "- [ ] Video in CPT caption style , includes Web demo of key contribution to project, 1 minute\n",
    "- [ ] Issue(s) that show plans/progress to team objectives\n",
    "- [ ] Highlights of key commit(s) in Issues, summarizes code contributions\n",
    "- [ ] Review GitHub analytics for key commits in each weeks during the project, shows consistent participation for 3 weeks\n",
    "\n",
    " Per check.  \n",
    " 0.55 not attempted/no check \n",
    " 0.7 attempted, incoomplete, but some runtime\n",
    " 0.8 mastery and runtime \n",
    " 0.9 above and beyond.\n",
    "\n",
    " Freeform comment.  \n",
    "  Provide positivies and growth summary.  \n",
    "  Justify or comment on final score.  \n",
    "  Be sure to provide extra details on anything below 0.7 average or above 0.8. "
   ]
  }
 ],
 "metadata": {
  "language_info": {
   "name": "python"
  }
 },
 "nbformat": 4,
 "nbformat_minor": 2
}

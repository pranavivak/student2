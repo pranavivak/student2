{
 "cells": [
  {
   "cell_type": "markdown",
   "metadata": {},
   "source": []
  },
  {
   "cell_type": "markdown",
   "metadata": {},
   "source": [
    "## CollegeBoard Exam Corrections\n",
    "## 2020 Practice exam: 54/67\n",
    "\n",
    "below are my reflection and information about the questions I got incorrect.\n",
    "![Screenshot 2023-12-23 at 10.08.29 PM.png](<attachment:Screenshot 2023-12-23 at 10.08.29 PM.png>)\n",
    "\n",
    "My answer: D, These inputs will produce a false and a true which will overall make an output of false\n",
    "\n",
    "Correct Answer: C, These inputs will allow both outputs to be true making an overall output of true.\n",
    "\n",
    "Reflection: Understanding AND OR statements would guide me to answer the question correctly.\n",
    "\n",
    "![Screenshot 2023-12-23 at 10.08.48 PM.png](<attachment:Screenshot 2023-12-23 at 10.08.48 PM.png>)\n",
    "\n",
    "My answer: B\n",
    "\n",
    "Correct Answer: A\n",
    "\n",
    "Reflection: I am not as familiar with the binary numbers format and how to read it, due to that I got the answer wrong. To not repeat this mistake, I can try to learn how to read binary numbers and how the order of the 1s and 0s make an effect.\n",
    "\n",
    "![Screenshot 2023-12-23 at 10.09.11 PM.png](<attachment:Screenshot 2023-12-23 at 10.09.11 PM.png>)\n",
    "\n",
    "My answer: C and D, these code segments initilizes to 0 and loops it to be at 1, producing false outputs\n",
    "\n",
    "Correct Answer: A and B, These code sgements resetted the count back to 0 after each run.\n",
    "\n",
    "Reflection: I wasn't able to interpret how to read these code segments as I didn't fully understand which part had to be read first and which segments would be looped.\n",
    "\n",
    "## FINAL REFLECTION: The recent team teaches has helped me understand and learn new concepts that are clearly tested on the collegeboard practice exams. Taking a practice exam last trimester to this trimester showed signficant improvement as I learned new concepts and its applications. The areas that I'm not as familiar with are binary and AND/OR statements as I have less experience with it. To improve my score I need to have more practice and familiarity with the format of the questions and what the intention of the question is. If watch some collegeboard videos regarding these topics I will have formed a better understanding of these areas and hopefully will allow me to perform even better."
   ]
  }
 ],
 "metadata": {
  "language_info": {
   "name": "python"
  }
 },
 "nbformat": 4,
 "nbformat_minor": 2
}

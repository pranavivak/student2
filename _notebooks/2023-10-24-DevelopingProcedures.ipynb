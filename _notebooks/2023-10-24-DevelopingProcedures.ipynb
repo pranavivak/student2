{
 "cells": [
  {
   "cell_type": "markdown",
   "metadata": {},
   "source": [
    "## 3.12-3.13 Developing Procedures"
   ]
  },
  {
   "cell_type": "markdown",
   "metadata": {},
   "source": [
    "## What is a procedure?\n",
    "\n",
    "A procedure is a named group of programming instructions\n",
    "\n",
    "2 Main Types of Procedures:\n",
    "- Procedure that returns a value of data\n",
    "- Procedure that executes a block of statements\n",
    "\n",
    "## Learning Objective:\n",
    "Be able to look at code and determine the purpose, and be able to write a procedure to manage complexity of program. understand the following terms and what they look like as well as how to use them in code\n",
    "\n",
    "- Procedure Parameters: variables that are defined within the procedure's parentheses and serve as placeholders for values that can be passed to the procedure when it is called, allowing the procedure to operate on different data or values each time it is executed.\n",
    "- Procedure Algorithms: a step-by-step set of instructions that defines a specific task or operation to be performed within a computer program\n",
    "- Procedure Return Values: data or results that a procedure can send back to the part of the program that called it, allowing the procedure to provide information or perform a specific task and then share the outcome with the rest of the program."
   ]
  },
  {
   "cell_type": "markdown",
   "metadata": {},
   "source": [
    "## Name, Parameters, Algorithm, Return Values, and Calling a Procedure"
   ]
  },
  {
   "cell_type": "code",
   "execution_count": 60,
   "metadata": {},
   "outputs": [
    {
     "name": "stdout",
     "output_type": "stream",
     "text": [
      "88\n"
     ]
    }
   ],
   "source": [
    "## Example of Procedure that Updates A Quiz Grade\n",
    "def updatequiz(currentgrade, quizgrade):\n",
    "    if quizgrade > currentgrade:\n",
    "        currentgrade = quizgrade\n",
    "    return currentgrade\n",
    "\n",
    "currentgrade = 75\n",
    "quizgrade = 88\n",
    "currentgrade = updatequiz(currentgrade, quizgrade)\n",
    "print(currentgrade)"
   ]
  },
  {
   "cell_type": "markdown",
   "metadata": {},
   "source": [
    "## Popcorn Hack #1:\n",
    "Identify the name of the procedure below, tell us the purpose and parameters of the procedure and identify the algorithm return value:\n",
    "\n",
    "- Name: updateweather\n",
    "- Parameters: currentweather, weather\n",
    "- Algorithm (paste lines): \n",
    "def updateweather(currentweather, weather):\n",
    "    if currentweather> weather:\n",
    "        weather = currentweather\n",
    "        print(\"today is warmer than yesterday\")\n",
    "    else:\n",
    "        print(\"today is colder than yesterday\")\n",
    "    return currentgrade\n",
    "- Return Value: Current grade\n",
    "- Calling Procedure Line:\n",
    "currentweather = 71\n",
    "weather = 66\n",
    "currentgrade = updateweather(currentweather, weather)\n",
    "print(\"the temperature right now is\", currentweather, \"degrees\")\n",
    "\n"
   ]
  },
  {
   "cell_type": "code",
   "execution_count": 40,
   "metadata": {},
   "outputs": [
    {
     "name": "stdout",
     "output_type": "stream",
     "text": [
      "today is warmer than yesterday\n",
      "the temperature right now is 71 degrees\n"
     ]
    }
   ],
   "source": [
    "def updateweather(currentweather, weather):\n",
    "    if currentweather> weather:\n",
    "        weather = currentweather\n",
    "        print(\"today is warmer than yesterday\")\n",
    "    else:\n",
    "        print(\"today is colder than yesterday\")\n",
    "    return currentgrade\n",
    "\n",
    "currentweather = 71\n",
    "weather = 66\n",
    "currentgrade = updateweather(currentweather, weather)\n",
    "print(\"the temperature right now is\", currentweather, \"degrees\")"
   ]
  },
  {
   "cell_type": "markdown",
   "metadata": {},
   "source": [
    "## Costructing Classes for Names & Data with Procedures"
   ]
  },
  {
   "cell_type": "code",
   "execution_count": 1,
   "metadata": {},
   "outputs": [],
   "source": [
    "# Class Construction\n",
    "class Short:\n",
    "    name = \"\"\n",
    "    height = 0\n",
    "\n",
    "class Tall:\n",
    "    name = \"\"\n",
    "    height = 0\n",
    "\n",
    "# Procedure to Classify as Short or Tall\n",
    "def classify_person(name, height):\n",
    "    if height < 70:\n",
    "        short_person = Short()\n",
    "        short_person.name = name\n",
    "        return short_person\n",
    "    else:\n",
    "        tall_person = Tall()\n",
    "        tall_person.name = name\n",
    "        return tall_person"
   ]
  },
  {
   "cell_type": "markdown",
   "metadata": {},
   "source": [
    "Class Definitions: The code defines two classes, \"Short\" and \"Tall,\" each having two attributes: name and height. These attributes can be used to store the name and height of individuals.\n",
    "\n",
    "Classification Procedure: The classify_person function takes two parameters: name and height. Depending on the provided height, it creates an instance of either the \"Short\" or \"Tall\" class. It sets the name attribute for the person and returns the corresponding instance."
   ]
  },
  {
   "cell_type": "markdown",
   "metadata": {},
   "source": [
    "## Popcorn Hack #2:\n",
    "Use the example above to use a procedure to create two classes of your choosing. Create at least 2 objects and class them with your procedure"
   ]
  },
  {
   "cell_type": "code",
   "execution_count": 1,
   "metadata": {},
   "outputs": [
    {
     "name": "stdout",
     "output_type": "stream",
     "text": [
      "Dog's name: Buddy, Breed: Labrador\n",
      "Cat's name: Whiskers, Breed: Siamese\n"
     ]
    }
   ],
   "source": [
    "# Class Construction\n",
    "class Dog:\n",
    "    name = \"\"\n",
    "    breed = \"\"\n",
    "\n",
    "class Cat:\n",
    "    name = \"\"\n",
    "    breed = \"\"\n",
    "\n",
    "# Procedure to Classify as Dog or Cat\n",
    "def classify_pet(name, breed, animal_type):\n",
    "    if animal_type == \"Dog\":\n",
    "        dog = Dog()\n",
    "        dog.name = name\n",
    "        dog.breed = breed\n",
    "        return dog\n",
    "    elif animal_type == \"Cat\":\n",
    "        cat = Cat()\n",
    "        cat.name = name\n",
    "        cat.breed = breed\n",
    "        return cat\n",
    "    else:\n",
    "        raise ValueError(\"Invalid animal type.\")\n",
    "\n",
    "# Creating objects\n",
    "dog1 = classify_pet(\"Buddy\", \"Labrador\", \"Dog\")\n",
    "cat1 = classify_pet(\"Whiskers\", \"Siamese\", \"Cat\")\n",
    "\n",
    "# Printing information about the created objects\n",
    "print(f\"Dog's name: {dog1.name}, Breed: {dog1.breed}\")\n",
    "print(f\"Cat's name: {cat1.name}, Breed: {cat1.breed}\")\n"
   ]
  },
  {
   "cell_type": "markdown",
   "metadata": {},
   "source": [
    "## Calling Methods of an Object w/ Procedures"
   ]
  },
  {
   "cell_type": "code",
   "execution_count": 2,
   "metadata": {},
   "outputs": [
    {
     "name": "stdout",
     "output_type": "stream",
     "text": [
      "Nihar is Tall.\n",
      "Will is Tall.\n",
      "Jayden is Tall.\n",
      "Howie is Tall.\n"
     ]
    }
   ],
   "source": [
    "# Creating Classes\n",
    "class Short:\n",
    "    name = \"\"\n",
    "    height = 0\n",
    "\n",
    "class Tall:\n",
    "    name = \"\"\n",
    "    height = 0\n",
    "\n",
    "#Procedure to classify as short or tall\n",
    "def classify_height(name, height):\n",
    "    if height < 70:\n",
    "        short_person = Short()\n",
    "        short_person.name = name\n",
    "        return short_person\n",
    "    else:\n",
    "        tall_person = Tall()\n",
    "        tall_person.name = name\n",
    "        return tall_person\n",
    "\n",
    "# Create objects and classify them as short or tall\n",
    "person1 = classify_height(\"Nihar\", 70)\n",
    "person2 = classify_height(\"Will\", 76)\n",
    "person3 = classify_height(\"Jayden\", 75)\n",
    "person4 = classify_height(\"Howie\", 70)\n",
    "\n",
    "# Display results for all four objects\n",
    "for person in [person1, person2, person3, person4]:\n",
    "    print(f\"{person.name} is {'Short' if person is Short else 'Tall'}.\")\n",
    "\n"
   ]
  },
  {
   "cell_type": "markdown",
   "metadata": {},
   "source": [
    "## HW Hacks!!\n",
    "1. Create a procedure that replaces a value with a new one (ex. update height)\n",
    "2. Create a procedure that constructs classes of your choosing and create at least 4 objects to be sorted into your classes. Call your procedure to display your objects."
   ]
  },
  {
   "cell_type": "code",
   "execution_count": 3,
   "metadata": {},
   "outputs": [
    {
     "name": "stdout",
     "output_type": "stream",
     "text": [
      "Original list: [2, 4, 6, 8, 10]\n",
      "Value 6 replaced with 7 successfully.\n",
      "Updated list: [2, 4, 7, 8, 10]\n"
     ]
    }
   ],
   "source": [
    "def replace_value(old_value, new_value, data_list):\n",
    "    if old_value in data_list:\n",
    "        index = data_list.index(old_value)\n",
    "        data_list[index] = new_value\n",
    "        print(f\"Value {old_value} replaced with {new_value} successfully.\")\n",
    "    else:\n",
    "        print(f\"Value {old_value} not found in the list.\")\n",
    "\n",
    "# Example usage\n",
    "data_list = [2, 4, 6, 8, 10]\n",
    "print(\"Original list:\", data_list)\n",
    "replace_value(6, 7, data_list)\n",
    "print(\"Updated list:\", data_list)"
   ]
  },
  {
   "cell_type": "code",
   "execution_count": 2,
   "metadata": {},
   "outputs": [
    {
     "name": "stdout",
     "output_type": "stream",
     "text": [
      "Cars:\n",
      "Make: Toyota, Model: Corolla, Year: 2019\n",
      "Make: Honda, Model: Civic, Year: 2020\n",
      "\n",
      "Books:\n",
      "Title: The Great Gatsby, Author: F. Scott Fitzgerald, Genre: Fiction\n",
      "Title: To Kill a Mockingbird, Author: Harper Lee, Genre: Classic\n"
     ]
    }
   ],
   "source": [
    "class Car:\n",
    "    def __init__(self, make, model, year):\n",
    "        self.make = make\n",
    "        self.model = model\n",
    "        self.year = year\n",
    "\n",
    "class Book:\n",
    "    def __init__(self, title, author, genre):\n",
    "        self.title = title\n",
    "        self.author = author\n",
    "        self.genre = genre\n",
    "\n",
    "# Procedure to create objects and sort them into classes\n",
    "def create_objects():\n",
    "    cars = [\n",
    "        Car(\"Toyota\", \"Corolla\", 2019),\n",
    "        Car(\"Honda\", \"Civic\", 2020)\n",
    "    ]\n",
    "    books = [\n",
    "        Book(\"The Great Gatsby\", \"F. Scott Fitzgerald\", \"Fiction\"),\n",
    "        Book(\"To Kill a Mockingbird\", \"Harper Lee\", \"Classic\")\n",
    "    ]\n",
    "    return cars, books\n",
    "\n",
    "# Call the procedure to display objects\n",
    "cars, books = create_objects()\n",
    "print(\"Cars:\")\n",
    "for car in cars:\n",
    "    print(f\"Make: {car.make}, Model: {car.model}, Year: {car.year}\")\n",
    "\n",
    "print(\"\\nBooks:\")\n",
    "for book in books:\n",
    "    print(f\"Title: {book.title}, Author: {book.author}, Genre: {book.genre}\")\n"
   ]
  }
 ],
 "metadata": {
  "kernelspec": {
   "display_name": "Python 3",
   "language": "python",
   "name": "python3"
  },
  "language_info": {
   "codemirror_mode": {
    "name": "ipython",
    "version": 3
   },
   "file_extension": ".py",
   "mimetype": "text/x-python",
   "name": "python",
   "nbconvert_exporter": "python",
   "pygments_lexer": "ipython3",
   "version": "3.10.12"
  }
 },
 "nbformat": 4,
 "nbformat_minor": 2
}

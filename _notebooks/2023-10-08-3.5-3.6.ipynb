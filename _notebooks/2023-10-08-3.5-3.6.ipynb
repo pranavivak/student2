{
 "cells": [
  {
   "cell_type": "markdown",
   "metadata": {},
   "source": [
    "---\n",
    "toc: true\n",
    "comments: false\n",
    "layout: post\n",
    "title: Team Teaching\n",
    "type: hacks\n",
    "courses: { compsci: {week: 8 } }\n",
    "---"
   ]
  },
  {
   "cell_type": "code",
   "execution_count": 8,
   "metadata": {},
   "outputs": [
    {
     "name": "stdout",
     "output_type": "stream",
     "text": [
      "False\n"
     ]
    }
   ],
   "source": [
    "num1 = 5  \n",
    "num2 = 7  \n",
    "\n",
    "are_equal = num1 == num2\n",
    "\n",
    "print(are_equal)  # This will print False in this example"
   ]
  },
  {
   "cell_type": "code",
   "execution_count": 9,
   "metadata": {},
   "outputs": [
    {
     "name": "stdout",
     "output_type": "stream",
     "text": [
      "True\n"
     ]
    }
   ],
   "source": [
    "num1 = 5  \n",
    "num2 = 7  \n",
    "\n",
    "are_not_equal = num1 != num2\n",
    "\n",
    "print(are_not_equal)  # This will print True in this example\n"
   ]
  },
  {
   "cell_type": "code",
   "execution_count": 10,
   "metadata": {},
   "outputs": [
    {
     "name": "stdout",
     "output_type": "stream",
     "text": [
      "True\n"
     ]
    }
   ],
   "source": [
    "num1 = 5  \n",
    "num2 = 7  \n",
    "\n",
    "is_less_than = num1 < num2\n",
    "\n",
    "print(is_less_than)  # This will print True in this example"
   ]
  },
  {
   "cell_type": "code",
   "execution_count": 11,
   "metadata": {},
   "outputs": [
    {
     "name": "stdout",
     "output_type": "stream",
     "text": [
      "False\n"
     ]
    }
   ],
   "source": [
    "num1 = 5  \n",
    "num2 = 7  \n",
    "\n",
    "is_greater_than = num1 > num2\n",
    "\n",
    "print(is_greater_than)  # This will print False in this example"
   ]
  },
  {
   "cell_type": "code",
   "execution_count": null,
   "metadata": {},
   "outputs": [],
   "source": [
    "# Popcorn hack\n",
    "# Write two Boolean expression to check if the average grades of student1, student2, and student3 is at least 85. Write one expression that is false and one that is true. \n"
   ]
  },
  {
   "cell_type": "code",
   "execution_count": 12,
   "metadata": {},
   "outputs": [
    {
     "name": "stdout",
     "output_type": "stream",
     "text": [
      "x is greater than 5.\n"
     ]
    }
   ],
   "source": [
    "# Example variable\n",
    "x = 10\n",
    "\n",
    "# Check if x is greater than 5\n",
    "if x > 5:\n",
    "    print(\"x is greater than 5.\")\n",
    "else:\n",
    "    print(\"x is not greater than 5.\")"
   ]
  }
 ],
 "metadata": {
  "kernelspec": {
   "display_name": "Python 3",
   "language": "python",
   "name": "python3"
  },
  "language_info": {
   "codemirror_mode": {
    "name": "ipython",
    "version": 3
   },
   "file_extension": ".py",
   "mimetype": "text/x-python",
   "name": "python",
   "nbconvert_exporter": "python",
   "pygments_lexer": "ipython3",
   "version": "3.10.12"
  },
  "orig_nbformat": 4
 },
 "nbformat": 4,
 "nbformat_minor": 2
}

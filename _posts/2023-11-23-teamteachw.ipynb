{
 "cells": [
  {
   "cell_type": "markdown",
   "metadata": {},
   "source": [
    "---\n",
    "toc: true\n",
    "comments: true\n",
    "layout: post\n",
    "title: Team teach homework\n",
    "type: Hacks\n",
    "courses: { compsci: {week: 9 } }\n",
    "---"
   ]
  },
  {
   "cell_type": "markdown",
   "metadata": {},
   "source": [
    "# Homework Questions\n",
    "Please answer all of these questions on your personal blog and **explain**. Don't just give an answer. Homework is due Sunday night at 6 pm\n",
    "\n",
    "#### IP Addresses\n",
    "1. Which of the following IP Addresses are possible? Explain (yes/no) for each answer choice.\n",
    "<br>\n",
    " - 1.1.1.1.1\n",
    " - 23.23.23.23\n",
    " - 134.492.100.0\n",
    " - 255.256.55.255\n",
    " - 2.93.255.19\n",
    "\n",
    "2. If Dian Du is at home on his home network and sends a message to every computer on the network, what is this an example of? Explain.\n",
    "<br>\n",
    "- Multicast\n",
    "- Unicast\n",
    "- Broadcast\n",
    "\n",
    "#### Models\n",
    "1. Three of the four following protocols are on the same layer. Identify which ones and what layer they are on, and why they are on each layer:\n",
    "    - ASCII (see above for information)\n",
    "    - FTP (facilitates transfer of files over the internet)\n",
    "    - TLS (see HTTPS section)\n",
    "    - USB (permits data exchange between electronics)\n",
    "\n",
    "\n",
    "2. Telnet is a internet protocol which allows remote access to other computers over a local network or the internet. What layer of the OSI model would this protocol be located on? What is the function of this layer?\n",
    "\n",
    "#### DNS\n",
    "\n",
    "1. Bob wants to use the domain bob.is.the.best.com. What domain should he buy from a DNS provider (assume it is available)? What would be the subdomains?\n",
    "\n",
    "#### HTTP and HTTPS\n",
    "1. What is a difference between HTTP and HTTPS? \n",
    "<br>\n",
    " - What protocol does HTTPS use that HTTP doesn't?\n",
    "\n",
    "2. Last trimester we sent HTTP requests for our passion projects\n",
    "<br>\n",
    " - Did we use HTTP or HTTPS?\n",
    " - What are the benefits and disadvantages of this?\n",
    "\n",
    "#### TCP and UDP\n",
    "\n",
    "1. Bob is setting up a video streaming service, and he needs the stream to be real time. \n",
    "<br>\n",
    " - What protocol should he use, TCP or UDP? Why?\n",
    " - What are some cons of this protocol? Give an example of a potential issue.\n",
    "\n",
    "\n",
    "2. TCP has error checking, which ensures that all packets arrive properly. Why is this important?\n",
    "<br>\n",
    " - Give an example of how TCP ensures that there are no errors.\n",
    "\n",
    "3. Server A computer is communicating with Server B. They have already initiated communication and Server A is now attempting to send data to Server B.\n",
    "<br>\n",
    " - How does Server B ensure that they have received any sent packets before Server A continues sending packets in TCP? In UDP?\n",
    " - What is another use of this?"
   ]
  }
 ],
 "metadata": {
  "language_info": {
   "name": "python"
  }
 },
 "nbformat": 4,
 "nbformat_minor": 2
}
